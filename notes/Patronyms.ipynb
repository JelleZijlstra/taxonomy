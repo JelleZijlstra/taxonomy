{
 "cells": [
  {
   "cell_type": "code",
   "execution_count": 88,
   "id": "4f4dc414-2e1e-40b4-9553-89dc66ac8347",
   "metadata": {},
   "outputs": [],
   "source": [
    "from taxonomy.db.constants import Group, NomenclatureStatus, SpeciesNameKind\n",
    "from taxonomy.db.models import Name, Taxon\n"
   ]
  },
  {
   "cell_type": "code",
   "execution_count": 89,
   "id": "197c8c20-e3b2-4802-b337-befa3c1e0632",
   "metadata": {},
   "outputs": [],
   "source": [
    "Mammalia = Taxon.select_valid().filter(Taxon.valid_name == \"Mammalia\").get()\n"
   ]
  },
  {
   "cell_type": "code",
   "execution_count": 90,
   "id": "063ebf17-2cbd-48ba-aaef-a2b4f2e9fd93",
   "metadata": {},
   "outputs": [],
   "source": [
    "taxon_ids = {\n",
    "    txn.id\n",
    "    for txn in Taxon.select_valid()\n",
    "    if txn.get_derived_field(\"class_\") == Mammalia\n",
    "}\n",
    "all_nams = [nam for nam in Name.select_valid() if nam.__data__[\"taxon\"] in taxon_ids]\n"
   ]
  },
  {
   "cell_type": "code",
   "execution_count": 91,
   "id": "18cae211-9c35-4e65-84ed-8dc74c7ed102",
   "metadata": {},
   "outputs": [
    {
     "data": {
      "text/plain": [
       "50155"
      ]
     },
     "execution_count": 91,
     "metadata": {},
     "output_type": "execute_result"
    }
   ],
   "source": [
    "nams = [nam for nam in all_nams if nam.group is Group.species and nam.nomenclature_status in (NomenclatureStatus.available, NomenclatureStatus.nomen_novum)]\n",
    "len(nams)"
   ]
  },
  {
   "cell_type": "code",
   "execution_count": 92,
   "id": "26c9bd05-3a63-4a97-a261-c1b8edda1d99",
   "metadata": {},
   "outputs": [
    {
     "data": {
      "text/plain": [
       "48430"
      ]
     },
     "execution_count": 92,
     "metadata": {},
     "output_type": "execute_result"
    }
   ],
   "source": [
    "sc_nams = [nam for nam in nams if nam.__data__[\"species_name_complex\"] is not None]\n",
    "len(sc_nams)\n"
   ]
  },
  {
   "cell_type": "code",
   "execution_count": 93,
   "id": "81d140c7-4616-4a32-aadc-fb3b4e065a64",
   "metadata": {},
   "outputs": [
    {
     "data": {
      "text/plain": [
       "0.9656066194796132"
      ]
     },
     "execution_count": 93,
     "metadata": {},
     "output_type": "execute_result"
    }
   ],
   "source": [
    "len(sc_nams) / len(nams)"
   ]
  },
  {
   "cell_type": "code",
   "execution_count": 94,
   "id": "47c35f7b-f8a4-47ea-b324-197b8952b576",
   "metadata": {},
   "outputs": [],
   "source": [
    "from collections import Counter"
   ]
  },
  {
   "cell_type": "code",
   "execution_count": 95,
   "id": "5397c9a3-6995-48c9-babc-41422804e19c",
   "metadata": {},
   "outputs": [
    {
     "name": "stdout",
     "output_type": "stream",
     "text": [
      "Equus Caballus cappadocius Fitzinger, 1858:417 (= Equus caballus, synonym)\n",
      "juvillaceus Bravard (= Equus ferus adamiticus, synonym)\n",
      "Vespertilio nathusii Keyserling & Blasius, 1839:320 (= Pipistrellus nathusii)\n",
      "Pitymys aratai Martin, 1974 (= Microtus aratai)\n",
      "Chubutherium ferelloi Cattoi, 1962\n",
      "Loxolophus schizophrenus Johnston & Fox, 1984\n",
      "Gazella grantii lacuum Neumann, 1906:243 (= Nanger granti brighti, synonym)\n",
      "Arvicola didelta Cope, 1871:89 (nomen_dubium)\n",
      "Hispanodorcas torrubiae Thomas, Morales & Heintz, 1982\n",
      "Euhapsis breugerorum Martin, 1987\n"
     ]
    }
   ],
   "source": [
    "import random\n",
    "\n",
    "no_sc_nams = [nam for nam in nams if nam.__data__[\"species_name_complex\"] is None]\n",
    "random.shuffle(no_sc_nams)\n",
    "for nam in no_sc_nams[:10]:\n",
    "    print(nam)"
   ]
  },
  {
   "cell_type": "code",
   "execution_count": null,
   "id": "f25ba61c-ab37-48db-8870-5efadfef8d27",
   "metadata": {},
   "outputs": [],
   "source": []
  },
  {
   "cell_type": "code",
   "execution_count": 96,
   "id": "4f03f8d1-cafa-4f11-99df-94eada3bd0ef",
   "metadata": {},
   "outputs": [],
   "source": [
    "counts = Counter(nam.species_name_complex.kind for nam in sc_nams)"
   ]
  },
  {
   "cell_type": "code",
   "execution_count": 97,
   "id": "dd5fd04b-609e-434f-b674-329a27895eb1",
   "metadata": {},
   "outputs": [
    {
     "data": {
      "text/plain": [
       "[(<SpeciesNameKind.adjective: 1>, 29138),\n",
       " (<SpeciesNameKind.patronym_masculine: 7>, 11355),\n",
       " (<SpeciesNameKind.noun_in_apposition: 2>, 3622),\n",
       " (<SpeciesNameKind.genitive: 3>, 1652),\n",
       " (<SpeciesNameKind.patronym_latin: 11>, 1027),\n",
       " (<SpeciesNameKind.patronym_feminine: 8>, 569),\n",
       " (<SpeciesNameKind.ambiguous_noun: 6>, 527),\n",
       " (<SpeciesNameKind.non_latin: 5>, 333),\n",
       " (<SpeciesNameKind.unknown: 12>, 122),\n",
       " (<SpeciesNameKind.patronym_masculine_plural: 9>, 84),\n",
       " (<SpeciesNameKind.patronym_feminine_plural: 10>, 1)]"
      ]
     },
     "execution_count": 97,
     "metadata": {},
     "output_type": "execute_result"
    }
   ],
   "source": [
    "counts.most_common(20)"
   ]
  },
  {
   "cell_type": "code",
   "execution_count": 98,
   "id": "7130c9ce-d0a1-4532-8cc4-fd10b419b1de",
   "metadata": {},
   "outputs": [],
   "source": [
    "buckets = {\n",
    "    SpeciesNameKind.adjective: \"adjective\",\n",
    "    SpeciesNameKind.patronym_feminine: \"patronym\",\n",
    "    SpeciesNameKind.patronym_feminine_plural: \"patronym\",\n",
    "    SpeciesNameKind.patronym_latin: \"patronym\",\n",
    "    SpeciesNameKind.patronym_masculine: \"patronym\",\n",
    "    SpeciesNameKind.patronym_masculine_plural: \"patronym\",\n",
    "    SpeciesNameKind.noun_in_apposition: \"noun in apposition\",\n",
    "    SpeciesNameKind.non_latin: \"miscellaneous\",\n",
    "    SpeciesNameKind.ambiguous_noun: \"miscellaneous\",\n",
    "    SpeciesNameKind.unknown: \"miscellaneous\",\n",
    "    SpeciesNameKind.genitive: \"miscellaneous\"\n",
    "}"
   ]
  },
  {
   "cell_type": "code",
   "execution_count": 99,
   "id": "6cb196fb-493a-49e4-acea-2ced622b74db",
   "metadata": {},
   "outputs": [
    {
     "data": {
      "text/plain": [
       "Counter({'adjective': 29138,\n",
       "         'noun in apposition': 3622,\n",
       "         'patronym': 13036,\n",
       "         'miscellaneous': 2634})"
      ]
     },
     "execution_count": 99,
     "metadata": {},
     "output_type": "execute_result"
    }
   ],
   "source": [
    "bucketed_counts = Counter()\n",
    "for kind, value in counts.items():\n",
    "    bucketed_counts[buckets[kind]] += value\n",
    "bucketed_counts"
   ]
  },
  {
   "cell_type": "code",
   "execution_count": 100,
   "id": "9e584612-c8df-46a5-b92d-d8979b212af8",
   "metadata": {},
   "outputs": [
    {
     "name": "stdout",
     "output_type": "stream",
     "text": [
      "adjective 0.6016518686764403\n",
      "noun in apposition 0.0747883543258311\n",
      "patronym 0.26917200082593434\n",
      "miscellaneous 0.05438777617179434\n"
     ]
    }
   ],
   "source": [
    "for bucket, count in bucketed_counts.items():\n",
    "    print(bucket, count / len(sc_nams))"
   ]
  },
  {
   "cell_type": "code",
   "execution_count": 101,
   "id": "454f6a4c-cadc-40a5-94fa-b492d4c06adf",
   "metadata": {},
   "outputs": [
    {
     "data": {
      "text/plain": [
       "6789"
      ]
     },
     "execution_count": 101,
     "metadata": {},
     "output_type": "execute_result"
    }
   ],
   "source": [
    "len([nam for nam in sc_nams if nam.__data__[\"species_name_complex\"] == 3])  # ensis"
   ]
  },
  {
   "cell_type": "code",
   "execution_count": 102,
   "id": "8e4c26f7-89a4-41c7-9500-3fabfdc0c9a4",
   "metadata": {},
   "outputs": [
    {
     "ename": "TypeError",
     "evalue": "unsupported operand type(s) for /: 'str' and 'int'",
     "output_type": "error",
     "traceback": [
      "\u001b[0;31m---------------------------------------------------------------------------\u001b[0m",
      "\u001b[0;31mTypeError\u001b[0m                                 Traceback (most recent call last)",
      "\u001b[0;32m/var/folders/75/kbphyp697t5fzgzkth6s7x380000gn/T/ipykernel_1780/374560383.py\u001b[0m in \u001b[0;36m<module>\u001b[0;34m\u001b[0m\n\u001b[0;32m----> 1\u001b[0;31m \u001b[0m_\u001b[0m \u001b[0;34m/\u001b[0m \u001b[0mlen\u001b[0m\u001b[0;34m(\u001b[0m\u001b[0msc_nams\u001b[0m\u001b[0;34m)\u001b[0m\u001b[0;34m\u001b[0m\u001b[0m\n\u001b[0m",
      "\u001b[0;31mTypeError\u001b[0m: unsupported operand type(s) for /: 'str' and 'int'"
     ]
    }
   ],
   "source": [
    "_ / len(sc_nams)"
   ]
  },
  {
   "cell_type": "code",
   "execution_count": 103,
   "id": "80e726e0-1f82-40b0-bbac-32eb81a49276",
   "metadata": {},
   "outputs": [],
   "source": [
    "import matplotlib.pyplot as plt"
   ]
  },
  {
   "cell_type": "code",
   "execution_count": 104,
   "id": "5a604837-673d-4fa1-8715-b0a83342a90f",
   "metadata": {},
   "outputs": [],
   "source": [
    "from collections import defaultdict\n",
    "\n",
    "data = defaultdict(lambda: defaultdict(int))\n",
    "for nam in sc_nams:\n",
    "    year = nam.numeric_year() // 10 * 10\n",
    "    if year == 0:\n",
    "        continue\n",
    "    bucket = buckets[nam.species_name_complex.kind]\n",
    "    data[bucket][year] += 1\n",
    "totals = Counter()\n",
    "for _, by_bucket in data.items():\n",
    "    totals.update(by_bucket)"
   ]
  },
  {
   "cell_type": "code",
   "execution_count": 105,
   "id": "e6d55d10-fd09-4d2b-b12d-367c64482f67",
   "metadata": {},
   "outputs": [
    {
     "data": {
      "text/plain": [
       "[(1750, 206),\n",
       " (1760, 91),\n",
       " (1770, 297),\n",
       " (1780, 266),\n",
       " (1790, 388),\n",
       " (1800, 418),\n",
       " (1810, 534),\n",
       " (1820, 1220),\n",
       " (1830, 1237),\n",
       " (1840, 1661),\n",
       " (1850, 1259),\n",
       " (1860, 1386),\n",
       " (1870, 1770),\n",
       " (1880, 1949),\n",
       " (1890, 3185),\n",
       " (1900, 4914),\n",
       " (1910, 4158),\n",
       " (1920, 3194),\n",
       " (1930, 3526),\n",
       " (1940, 1765),\n",
       " (1950, 1685),\n",
       " (1960, 1755),\n",
       " (1970, 2156),\n",
       " (1980, 2303),\n",
       " (1990, 2141),\n",
       " (2000, 2377),\n",
       " (2010, 2168),\n",
       " (2020, 293)]"
      ]
     },
     "execution_count": 105,
     "metadata": {},
     "output_type": "execute_result"
    }
   ],
   "source": [
    "sorted(totals.items())"
   ]
  },
  {
   "cell_type": "code",
   "execution_count": 106,
   "id": "697566a2-ef33-4975-81fe-b81765f80c11",
   "metadata": {},
   "outputs": [
    {
     "data": {
      "image/png": "[encoded data removed]",
      "text/plain": [
       "<Figure size 432x288 with 1 Axes>"
      ]
     },
     "metadata": {
      "needs_background": "light"
     },
     "output_type": "display_data"
    }
   ],
   "source": [
    "percentages = [\n",
    "        [subdata[decade] / totals[decade] * 100 for decade in range(1750, 2030, 10)]\n",
    "        for subdata in data.values()\n",
    "    ]\n",
    "plt.stackplot(\n",
    "    range(1750, 2030, 10),\n",
    "    *percentages,\n",
    "    labels=data.keys()\n",
    ")\n",
    "plt.legend(loc=\"lower left\")\n",
    "plt.savefig(\"buckets.png\", format=\"png\")"
   ]
  },
  {
   "cell_type": "code",
   "execution_count": 107,
   "id": "15ccb939-c690-4a47-a1f2-fff88e54084e",
   "metadata": {},
   "outputs": [
    {
     "data": {
      "text/plain": [
       "[[52.42718446601942,\n",
       "  58.24175824175825,\n",
       "  66.32996632996633,\n",
       "  72.18045112781954,\n",
       "  79.89690721649485,\n",
       "  77.75119617224881,\n",
       "  80.71161048689139,\n",
       "  71.80327868852459,\n",
       "  70.49312853678254,\n",
       "  72.48645394340758,\n",
       "  72.04130262112788,\n",
       "  75.32467532467533,\n",
       "  73.89830508474576,\n",
       "  71.52385838891739,\n",
       "  66.71899529042386,\n",
       "  62.576312576312574,\n",
       "  55.05050505050505,\n",
       "  56.63744520976831,\n",
       "  58.30969937606353,\n",
       "  56.14730878186969,\n",
       "  56.083086053412465,\n",
       "  53.44729344729344,\n",
       "  54.63821892393321,\n",
       "  53.669127225358224,\n",
       "  49.2760392340028,\n",
       "  45.68784181741691,\n",
       "  43.08118081180812,\n",
       "  35.153583617747444],\n",
       " [45.63106796116505,\n",
       "  40.65934065934066,\n",
       "  30.303030303030305,\n",
       "  25.93984962406015,\n",
       "  15.979381443298967,\n",
       "  15.07177033492823,\n",
       "  13.108614232209737,\n",
       "  10.98360655737705,\n",
       "  10.105092966855295,\n",
       "  8.85009030704395,\n",
       "  6.751389992057188,\n",
       "  4.761904761904762,\n",
       "  4.350282485875706,\n",
       "  4.515135967162647,\n",
       "  6.122448979591836,\n",
       "  7.814407814407814,\n",
       "  9.523809523809524,\n",
       "  8.077645585472762,\n",
       "  5.0198525241066365,\n",
       "  5.212464589235127,\n",
       "  4.094955489614243,\n",
       "  3.418803418803419,\n",
       "  4.081632653061225,\n",
       "  4.515848892748589,\n",
       "  5.885100420364315,\n",
       "  7.446360959192259,\n",
       "  10.977859778597786,\n",
       "  15.699658703071673],\n",
       " [0.0,\n",
       "  0.0,\n",
       "  1.0101010101010102,\n",
       "  0.37593984962406013,\n",
       "  1.5463917525773196,\n",
       "  4.30622009569378,\n",
       "  5.056179775280898,\n",
       "  14.01639344262295,\n",
       "  17.057396928051737,\n",
       "  15.35219747140277,\n",
       "  18.7450357426529,\n",
       "  17.604617604617605,\n",
       "  16.836158192090394,\n",
       "  19.65110312981016,\n",
       "  21.569858712715856,\n",
       "  21.978021978021978,\n",
       "  25.94997594997595,\n",
       "  28.83531621790858,\n",
       "  31.140102098695404,\n",
       "  31.3314447592068,\n",
       "  34.59940652818992,\n",
       "  37.49287749287749,\n",
       "  36.50278293135436,\n",
       "  37.16891011723838,\n",
       "  40.49509574964969,\n",
       "  41.69120740429113,\n",
       "  40.4520295202952,\n",
       "  41.63822525597269],\n",
       " [1.9417475728155338,\n",
       "  1.098901098901099,\n",
       "  2.356902356902357,\n",
       "  1.5037593984962405,\n",
       "  2.5773195876288657,\n",
       "  2.8708133971291865,\n",
       "  1.1235955056179776,\n",
       "  3.1967213114754096,\n",
       "  2.3443815683104283,\n",
       "  3.3112582781456954,\n",
       "  2.4622716441620334,\n",
       "  2.3088023088023086,\n",
       "  4.915254237288136,\n",
       "  4.3099025141098,\n",
       "  5.588697017268446,\n",
       "  7.631257631257632,\n",
       "  9.475709475709476,\n",
       "  6.4495929868503445,\n",
       "  5.53034600113443,\n",
       "  7.308781869688385,\n",
       "  5.222551928783383,\n",
       "  5.641025641025641,\n",
       "  4.777365491651206,\n",
       "  4.646113764654798,\n",
       "  4.343764595983186,\n",
       "  5.1745898190997055,\n",
       "  5.488929889298893,\n",
       "  7.508532423208192]]"
      ]
     },
     "execution_count": 107,
     "metadata": {},
     "output_type": "execute_result"
    }
   ],
   "source": [
    "percentages"
   ]
  },
  {
   "cell_type": "code",
   "execution_count": 108,
   "id": "d9047345-ba41-456d-b4a5-ba8d4b65fe81",
   "metadata": {},
   "outputs": [
    {
     "data": {
      "text/plain": [
       "<Figure size 432x288 with 0 Axes>"
      ]
     },
     "metadata": {},
     "output_type": "display_data"
    }
   ],
   "source": [
    "plt.savefig(\"buckets.png\", format=\"png\")"
   ]
  },
  {
   "cell_type": "code",
   "execution_count": 109,
   "id": "2a919dae-83ab-4490-a8cd-bd738273573a",
   "metadata": {},
   "outputs": [],
   "source": [
    "patronym_data = data[\"patronym\"]\n",
    "by_sc = defaultdict(lambda: defaultdict(int))\n",
    "for nam in sc_nams:\n",
    "    bucket = buckets[nam.species_name_complex.kind]\n",
    "    if bucket != \"patronym\":\n",
    "        continue\n",
    "    year = nam.numeric_year() // 10 * 10\n",
    "    if year == 0:\n",
    "        continue\n",
    "    by_sc[nam.species_name_complex.label][year] += 1\n"
   ]
  },
  {
   "cell_type": "code",
   "execution_count": 115,
   "id": "022a221e-5b12-4c1d-8a13-6eeeb6ac5703",
   "metadata": {},
   "outputs": [
    {
     "data": {
      "image/png": "[encoded data removed]",
      "text/plain": [
       "<Figure size 432x288 with 1 Axes>"
      ]
     },
     "metadata": {
      "needs_background": "light"
     },
     "output_type": "display_data"
    }
   ],
   "source": [
    "percentages = [\n",
    "        [subdata[decade] / patronym_data[decade] * 100 for decade in range(1770, 2030, 10)]\n",
    "        for subdata in by_sc.values()\n",
    "    ]\n",
    "plt.stackplot(\n",
    "    range(1770, 2030, 10),\n",
    "    *percentages,\n",
    "    labels=[label[len(\"patronym_\"):] for label in by_sc.keys()]\n",
    ")\n",
    "plt.legend(bbox_to_anchor=(1.4, 1.05))\n",
    "plt.savefig(\"patronyms.png\", format=\"png\", bbox_inches=\"tight\")"
   ]
  },
  {
   "cell_type": "code",
   "execution_count": 111,
   "id": "f1e069c0-5bf5-407e-a5e9-d5d03c175d39",
   "metadata": {},
   "outputs": [
    {
     "data": {
      "text/plain": [
       "[[66.66666666666666,\n",
       "  100.0,\n",
       "  50.0,\n",
       "  33.33333333333333,\n",
       "  70.37037037037037,\n",
       "  62.57309941520468,\n",
       "  54.976303317535546,\n",
       "  41.568627450980394,\n",
       "  36.016949152542374,\n",
       "  42.62295081967213,\n",
       "  28.523489932885905,\n",
       "  17.232375979112273,\n",
       "  8.73362445414847,\n",
       "  5.7407407407407405,\n",
       "  4.077849860982391,\n",
       "  3.257328990228013,\n",
       "  2.0947176684881605,\n",
       "  2.1699819168173597,\n",
       "  1.7152658662092626,\n",
       "  1.3677811550151975,\n",
       "  2.0330368487928845,\n",
       "  2.453271028037383,\n",
       "  1.0380622837370241,\n",
       "  1.3118062563067607,\n",
       "  1.4823261117445838,\n",
       "  2.459016393442623],\n",
       " [33.33333333333333,\n",
       "  0.0,\n",
       "  50.0,\n",
       "  66.66666666666666,\n",
       "  29.629629629629626,\n",
       "  37.42690058479532,\n",
       "  45.023696682464454,\n",
       "  56.470588235294116,\n",
       "  63.559322033898304,\n",
       "  56.9672131147541,\n",
       "  71.14093959731544,\n",
       "  82.76762402088774,\n",
       "  89.66521106259097,\n",
       "  92.5,\n",
       "  92.95644114921224,\n",
       "  93.91965255157437,\n",
       "  95.26411657559198,\n",
       "  96.38336347197107,\n",
       "  94.16809605488851,\n",
       "  94.52887537993921,\n",
       "  92.37611181702668,\n",
       "  91.35514018691589,\n",
       "  88.81199538638985,\n",
       "  84.05650857719476,\n",
       "  84.49258836944128,\n",
       "  83.60655737704919],\n",
       " [0.0,\n",
       "  0.0,\n",
       "  0.0,\n",
       "  0.0,\n",
       "  0.0,\n",
       "  0.0,\n",
       "  0.0,\n",
       "  1.9607843137254901,\n",
       "  0.423728813559322,\n",
       "  0.4098360655737705,\n",
       "  0.33557046979865773,\n",
       "  0.0,\n",
       "  1.3100436681222707,\n",
       "  1.7592592592592593,\n",
       "  2.6876737720111215,\n",
       "  2.6058631921824107,\n",
       "  2.0947176684881605,\n",
       "  1.2658227848101267,\n",
       "  3.6020583190394513,\n",
       "  3.7993920972644375,\n",
       "  5.336721728081321,\n",
       "  5.607476635514018,\n",
       "  8.535178777393309,\n",
       "  12.108980827447024,\n",
       "  11.972633979475484,\n",
       "  12.295081967213115],\n",
       " [0.0,\n",
       "  0.0,\n",
       "  0.0,\n",
       "  0.0,\n",
       "  0.0,\n",
       "  0.0,\n",
       "  0.0,\n",
       "  0.0,\n",
       "  0.0,\n",
       "  0.0,\n",
       "  0.0,\n",
       "  0.0,\n",
       "  0.2911208151382824,\n",
       "  0.0,\n",
       "  0.27803521779425394,\n",
       "  0.21715526601520088,\n",
       "  0.546448087431694,\n",
       "  0.18083182640144665,\n",
       "  0.5145797598627788,\n",
       "  0.303951367781155,\n",
       "  0.25412960609911056,\n",
       "  0.5841121495327103,\n",
       "  1.4994232987312572,\n",
       "  2.5227043390514634,\n",
       "  2.0524515393386547,\n",
       "  1.639344262295082],\n",
       " [0.0,\n",
       "  0.0,\n",
       "  0.0,\n",
       "  0.0,\n",
       "  0.0,\n",
       "  0.0,\n",
       "  0.0,\n",
       "  0.0,\n",
       "  0.0,\n",
       "  0.0,\n",
       "  0.0,\n",
       "  0.0,\n",
       "  0.0,\n",
       "  0.0,\n",
       "  0.0,\n",
       "  0.0,\n",
       "  0.0,\n",
       "  0.0,\n",
       "  0.0,\n",
       "  0.0,\n",
       "  0.0,\n",
       "  0.0,\n",
       "  0.11534025374855825,\n",
       "  0.0,\n",
       "  0.0,\n",
       "  0.0]]"
      ]
     },
     "execution_count": 111,
     "metadata": {},
     "output_type": "execute_result"
    }
   ],
   "source": [
    "percentages"
   ]
  },
  {
   "cell_type": "code",
   "execution_count": 113,
   "id": "1f25090c-c48e-466b-97e5-89a459d258aa",
   "metadata": {},
   "outputs": [
    {
     "name": "stdout",
     "output_type": "stream",
     "text": [
      "patronym_latin 1025 0.07862841362381098\n",
      "patronym_masculine 11333 0.8693617674133169\n",
      "patronym_feminine 569 0.04364835839214483\n",
      "patronym_masculine_plural 84 0.006443694384780607\n",
      "patronym_feminine_plural 1 7.671064743786438e-05\n"
     ]
    }
   ],
   "source": [
    "total_patronyms = bucketed_counts[\"patronym\"]\n",
    "for key, value in by_sc.items():\n",
    "    t = sum(value.values())\n",
    "    print(key, t, t / total_patronyms)"
   ]
  },
  {
   "cell_type": "code",
   "execution_count": 2,
   "id": "48a39e49-8608-4023-84e4-aaa048bfa783",
   "metadata": {},
   "outputs": [],
   "source": [
    "from taxonomy.db.models import Person\n",
    "\n",
    "num_patronyms = {p: len(p.get_sorted_derived_field(\"patronyms\")) for p in Person.select_valid()}"
   ]
  },
  {
   "cell_type": "code",
   "execution_count": 5,
   "id": "2aec681d-13e9-4fd9-b88b-f0f2ac1cd699",
   "metadata": {},
   "outputs": [],
   "source": [
    "from collections import Counter\n",
    "\n",
    "num_patronyms = Counter({p: count for p, count in num_patronyms.items() if count > 0})"
   ]
  },
  {
   "cell_type": "code",
   "execution_count": 8,
   "id": "49ee9811-d7f7-4766-a35b-98b97d784f58",
   "metadata": {},
   "outputs": [
    {
     "data": {
      "text/plain": [
       "[(<Person: Charles Jean Julien Depéret (1854–1929; French paleontologist; checked; western)>,\n",
       "  38),\n",
       " (<Person: Walter Willis Granger (1872–1941; American paleontologist; checked; western)>,\n",
       "  17),\n",
       " (<Person: George Gaylord Simpson (1902–1984; American paleontologist; checked; western)>,\n",
       "  17),\n",
       " (<Person: Edward Drinker Cope (1840–1897; checked; western)>, 16),\n",
       " (<Person: Hans de Bruijn (Dutch paleontologist; checked; dutch)>, 16),\n",
       " (<Person: Claude W. Hibbard (1905–1973; American paleontologist; checked; western)>,\n",
       "  15),\n",
       " (<Person: Malcolm Carnegie McKenna (1930–2008; American paleontologist; checked; western)>,\n",
       "  15),\n",
       " (<Person: Pierre Teilhard de Chardin (1881–1955; French Jesuit and paleontologist; checked; western)>,\n",
       "  15),\n",
       " (<Person: Игорь Михайлович Громов (1913–; Russian paleontologist; checked; russian)>,\n",
       "  15),\n",
       " (<Person: Mary R. Dawson (1930–2020; American paleontologist; checked; western)>,\n",
       "  15),\n",
       " (<Person: Sidney Langford Hinde (1863–1930; British colonial administrator; husband of Hildegard Hinde; checked; western)>,\n",
       "  14),\n",
       " (<Person: René Lavocat (1909–2007; French paleontologist; checked; western)>,\n",
       "  14),\n",
       " (<Person: Henry Fairfield Osborn (1857–1935; American paleontologist; checked; western)>,\n",
       "  14),\n",
       " (<Person: Max Schlosser (1854–1932; German paleontologist; checked; german)>,\n",
       "  14),\n",
       " (<Person: Johannes Hürzeler (1908–1995; Swiss paleontologist; checked; german)>,\n",
       "  14),\n",
       " (<Person: Zhong-jian Yang (1897–1979; Chinese paleontologist, also known as Chung Chien (C.C.) Young; checked; pinyin)>,\n",
       "  14),\n",
       " (<Person: William Diller Matthew (1871–1930; Canadian-American paleontologist; checked; western)>,\n",
       "  13),\n",
       " (<Person: Remmert Daams (1948–1999; Dutch paleontologist; checked; dutch)>,\n",
       "  13),\n",
       " (<Person: Richard Hall Tedford (1929–2011; American paleontologist; checked; western)>,\n",
       "  12),\n",
       " (<Person: Morris F. Skinner (American paleontologist; checked; western)>, 12),\n",
       " (<Person: Pierre Mein (French paleontologist; checked; western)>, 12),\n",
       " (<Person: Bryan Patterson (1909–1979; American paleontologist; checked; western)>,\n",
       "  11),\n",
       " (<Person: Volker Fahlbusch (1934–2008; German paleontologist; checked; german)>,\n",
       "  11),\n",
       " (<Person: Miquel Crusafont i Pairó (1910–1983; Spanish paleontologist; checked; spanish)>,\n",
       "  11),\n",
       " (<Person: Ming-zhen Zhou (1918–1996; Chinese paleontologist; checked; pinyin)>,\n",
       "  11),\n",
       " (<Person: Richard Estes (unchecked; western)>, 11),\n",
       " (<Person: Joseph Mellick Leidy (1823–1891; American paleontologist; checked; western)>,\n",
       "  10),\n",
       " (<Person: Vladimir Emmanuilovich Martino (1888–1961; Russian zoologist, active in Yugoslavia and Bulgaria; checked; russian)>,\n",
       "  10),\n",
       " (<Person: Albert Elmer Wood (American paleontologist; checked; western)>, 10),\n",
       " (<Person: Donald Elvin Savage (1917–1999; American paleontologist; checked; western)>,\n",
       "  10),\n",
       " (<Person: Burkart Engesser (Swiss paleontologist; checked; german)>, 10),\n",
       " (<Person: James Williams Gidley (1866–1931; American paleontologist; checked; western)>,\n",
       "  9),\n",
       " (<Person: Oldfield Thomas (1858–1929; English mammalogist; checked; western)>,\n",
       "  9),\n",
       " (<Person: Donald E. Russell (1927–; American paleontologist; checked; western)>,\n",
       "  9),\n",
       " (<Person: Oldřich Fejfar (1931–; Czech paleontologist; checked; western)>, 9),\n",
       " (<Person: Georges Wouters (1935–1992; Belgian amateur paleontologist; checked; western)>,\n",
       "  9),\n",
       " (<Person: Zofia Kielan-Jaworowska (1925–2015; Polish paleontologist; checked; western)>,\n",
       "  9),\n",
       " (<Person: Richard Dehm (unchecked; unspecified)>, 9),\n",
       " (<Person: Ted Galusha (unchecked; unspecified)>, 8),\n",
       " (<Person: Earl Douglass (1862–1931; checked; western)>, 8),\n",
       " (<Person: Childs Frick (1883–1965; American paleontologist; checked; western)>,\n",
       "  8),\n",
       " (<Person: Othniel Charles Marsh (1831–1899; American paleontologist; checked; western)>,\n",
       "  8),\n",
       " (<Person: Gerhard Storch (1939–2017; German paleontologist; checked; german)>,\n",
       "  8),\n",
       " (<Person: Kazimierz Kowalski (1925–2007; Polish paleontologist; checked; western)>,\n",
       "  8),\n",
       " (<Person: Henri Filhol (1843–1902; French paleontologist; checked; western)>,\n",
       "  8),\n",
       " (<Person: Paul Gervais (1816–1879; French zoologist; checked; western)>, 8),\n",
       " (<Person: Florentino Ameghino (1853–1911; Argentine paleontologist; checked; spanish)>,\n",
       "  8),\n",
       " (<Person: Chuan-kui Li (Chinese paleontologist; checked; pinyin)>, 8),\n",
       " (<Person: John Bell Hatcher (1861–1904; American paleontologist; checked; western)>,\n",
       "  8),\n",
       " (<Person: Gregg F. Gunnell (–2017; American paleontologist; checked; western)>,\n",
       "  8)]"
      ]
     },
     "execution_count": 8,
     "metadata": {},
     "output_type": "execute_result"
    }
   ],
   "source": [
    "num_patronyms.most_common(50)"
   ]
  },
  {
   "cell_type": "code",
   "execution_count": null,
   "id": "b8c3c497-ef3e-42ef-929a-881b590272e4",
   "metadata": {},
   "outputs": [],
   "source": []
  }
 ],
 "metadata": {
  "kernelspec": {
   "display_name": "Python 3 (ipykernel)",
   "language": "python",
   "name": "python3"
  },
  "language_info": {
   "codemirror_mode": {
    "name": "ipython",
    "version": 3
   },
   "file_extension": ".py",
   "mimetype": "text/x-python",
   "name": "python",
   "nbconvert_exporter": "python",
   "pygments_lexer": "ipython3",
   "version": "3.7.0"
  }
 },
 "nbformat": 4,
 "nbformat_minor": 5
}
